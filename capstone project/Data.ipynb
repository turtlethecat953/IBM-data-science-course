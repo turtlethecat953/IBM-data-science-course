{
 "cells": [
  {
   "cell_type": "markdown",
   "metadata": {},
   "source": [
    "<h1>Data Description</h1>\n",
    "\n",
    "<h2>London</h2>\n",
    "\n",
    "I get the data from https://en.wikipedia.org/wiki/List_of_London_boroughs\n",
    "\n",
    "The dataframe contain data of Londa consist:\n",
    "1. Borough : Name of Borough\n",
    "2. Latitude : Latitude\n",
    "3. Longitude : Longitude\n",
    "\n",
    "<h2>Paris</h2>\n",
    "\n",
    "I get the data from https://en.wikipedia.org/wiki/Arrondissements_of_Paris and from https://www.data.gouv.fr/fr/datasets/r/e88c6fda-1d09-42a0-a069-606d3259114e\n",
    "\n",
    "The dataframe contain data of Londa consist:\n",
    "1. Di : Name of District\n",
    "2. Latitude : Latitude\n",
    "3. Longitude : Longitude\n",
    "\n",
    "<h2>Foursquare API Data</h2>\n",
    "\n",
    "I will get data from foursquare API to analysis each distrinct in London and in Paris "
   ]
  },
  {
   "cell_type": "code",
   "execution_count": null,
   "metadata": {},
   "outputs": [],
   "source": []
  }
 ],
 "metadata": {
  "kernelspec": {
   "display_name": "Python 3",
   "language": "python",
   "name": "python3"
  },
  "language_info": {
   "codemirror_mode": {
    "name": "ipython",
    "version": 3
   },
   "file_extension": ".py",
   "mimetype": "text/x-python",
   "name": "python",
   "nbconvert_exporter": "python",
   "pygments_lexer": "ipython3",
   "version": "3.7.9"
  }
 },
 "nbformat": 4,
 "nbformat_minor": 4
}
