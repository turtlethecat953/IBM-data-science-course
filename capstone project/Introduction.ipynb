{
 "cells": [
  {
   "cell_type": "markdown",
   "metadata": {},
   "source": [
    "<h1>Introduction and Business Problem</h1>"
   ]
  },
  {
   "cell_type": "markdown",
   "metadata": {},
   "source": [
    "London and Paris are two of the most ancient city in the world. This project is aim to try to analysis the two cities, more specificly I aimed to analysis how the cities can be seperated to several section(cluster) with similar shops and facilities. By doing so, I belive we can have betting understanding of the two cities. The Reason for choosing London and Paris is becasue both cities have a lot of data availabe to the public and make it very easy to collect data for both of the cities."
   ]
  }
 ],
 "metadata": {
  "kernelspec": {
   "display_name": "Python 3",
   "language": "python",
   "name": "python3"
  },
  "language_info": {
   "codemirror_mode": {
    "name": "ipython",
    "version": 3
   },
   "file_extension": ".py",
   "mimetype": "text/x-python",
   "name": "python",
   "nbconvert_exporter": "python",
   "pygments_lexer": "ipython3",
   "version": "3.7.9"
  }
 },
 "nbformat": 4,
 "nbformat_minor": 4
}
